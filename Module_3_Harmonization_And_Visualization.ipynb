{
  "cells": [
    {
      "cell_type": "markdown",
      "metadata": {
        "id": "view-in-github",
        "colab_type": "text"
      },
      "source": [
        "<a href=\"https://colab.research.google.com/github/mickymags/curriculum_development_initiative/blob/main/Module_3_Harmonization_And_Visualization.ipynb\" target=\"_parent\"><img src=\"https://colab.research.google.com/assets/colab-badge.svg\" alt=\"Open In Colab\"/></a>"
      ]
    },
    {
      "cell_type": "markdown",
      "source": [
        "# Introduction"
      ],
      "metadata": {
        "id": "oaHhtCme1x3d"
      }
    },
    {
      "cell_type": "markdown",
      "source": [
        "The goal of this module is to take the flood maps that we obtained from the global products, mosaic them, clip them, and assign to them all common raster values.\n",
        "\n",
        "Each of the products has their own unique raster values, which can be seen in [this table](https://docs.google.com/spreadsheets/d/15igmiH1EHjtiyprgx6LnF78lvNh2scZSnlc12ySr0PQ/edit?usp=sharing). This script will take each product and reassign its raster values to the following raster value scheme:\n",
        "\n",
        "Pixel Value            |        Land Cover Class\n",
        "---                    | :---:\n",
        "0                      |  Nonwater\n",
        "1                      |  Water\n",
        "2                      |  Masked (e.g. cloud, cloud shadow)\n",
        "\n",
        "**Table 1: Pixel Values Used for SERVIR's Flood Mapping Intercomparison Project**"
      ],
      "metadata": {
        "id": "0VWFCgM-wa3c"
      }
    },
    {
      "cell_type": "markdown",
      "source": [
        "### MODIFIABLE VARIABLE ALERT\n",
        "\n",
        "Change the variables below to match your Google Earth Engine project and the Google Earth Engine Folder where you uploaded the flood maps we exported at the end of Module 2."
      ],
      "metadata": {
        "id": "ksDn2h2oRZ6s"
      }
    },
    {
      "cell_type": "code",
      "source": [
        "my_gee_project = 'servir-sco-assets'\n",
        "my_gee_folder = \"users/mickymags/flood_intercomparison_chad_09_26_take2/\""
      ],
      "metadata": {
        "id": "2BoiiMzqhwiO"
      },
      "execution_count": null,
      "outputs": []
    },
    {
      "cell_type": "code",
      "source": [
        "#!pip install geemap"
      ],
      "metadata": {
        "id": "1nCo-Dzb3zi4"
      },
      "execution_count": null,
      "outputs": []
    },
    {
      "cell_type": "code",
      "source": [
        "import geemap\n",
        "import ee\n",
        "\n",
        "ee.Authenticate()\n",
        "ee.Initialize(project=my_gee_project)"
      ],
      "metadata": {
        "id": "oRWWw1q9319K"
      },
      "execution_count": null,
      "outputs": []
    },
    {
      "cell_type": "markdown",
      "source": [
        "# Step 1: Import Imagery\n",
        "\n",
        "Import all of our flood maps and get our area of interest"
      ],
      "metadata": {
        "id": "Xo6fysOy37mc"
      }
    },
    {
      "cell_type": "code",
      "source": [
        "dswx_hls_mos = ee.Image(my_gee_folder + 'dswx_hls_mosaic')\n",
        "dswx_s1_mos = ee.Image(my_gee_folder + 'dswxs1_mosaic')\n",
        "gfm_mos = ee.Image(my_gee_folder + 'gfm_mosaic')\n",
        "hydrafloods_mos = ee.Image(my_gee_folder + 'hydrafloods_mosaic')\n",
        "hydrosar_mos = ee.Image(my_gee_folder + 'hydrosar_mosaic')\n",
        "mcdwd_mos = ee.Image(my_gee_folder + 'mcdwd_mosaic')\n",
        "vfm_mos = ee.Image(my_gee_folder + 'vfm_mosaic')\n",
        "\n",
        "aoi = ee.FeatureCollection(my_gee_folder + 'aoi')"
      ],
      "metadata": {
        "id": "scyQoS09jjJV"
      },
      "execution_count": null,
      "outputs": []
    },
    {
      "cell_type": "code",
      "source": [
        "my_projection = dswx_hls_mos.projection().getInfo()[\"crs\"]\n",
        "my_projection"
      ],
      "metadata": {
        "id": "XWdEDgzke1VA"
      },
      "execution_count": null,
      "outputs": []
    },
    {
      "cell_type": "code",
      "source": [
        "# Get the coordinates of the center of the AOI for mapping purposes\n",
        "aoi_centroid = aoi.geometry().centroid()             # Get the center of the AOI\n",
        "lon = aoi_centroid.coordinates().get(0).getInfo()    # Extract the longitude from the centroid\n",
        "lat = aoi_centroid.coordinates().get(1).getInfo()    # Extract the latitude from the centroid"
      ],
      "metadata": {
        "id": "YFumWReF8kC2"
      },
      "execution_count": null,
      "outputs": []
    },
    {
      "cell_type": "markdown",
      "source": [
        "# Part 2: Harmonization"
      ],
      "metadata": {
        "id": "mRWZjDk9DrjZ"
      }
    },
    {
      "cell_type": "markdown",
      "source": [
        "## Part 2.1 VFM Harmonization"
      ],
      "metadata": {
        "id": "py8ISgpN3AMy"
      }
    },
    {
      "cell_type": "code",
      "source": [
        "#############################################################################\n",
        "#   Part 2: Create a function to reassign pixel values to our new schema    #\n",
        "#############################################################################\n",
        "# Define a function to transform VFM maps into common schema. This function takes an image as\n",
        "#its input and outputs an image with the schema mentioned in Table 1\n",
        "def vng_sch(image):\n",
        "\n",
        "  ################ Get Water Pixels ####################\n",
        "\n",
        "  # Raster Values of 15 indicate open water without water fraction retrieval\n",
        "  # Raster Values of 99 indicate\n",
        "  # Raster Values of 100 indicate Open Normal Water, from a river, lake, reservoir, or ocean\n",
        "  # Raster Values of 101-200 idnicate water fractions of floodwater. We selected 50 as the percent threshold\n",
        "  # to consider a pixel as water/nonwater. Thus, for the purposes of this study, we selected 150 as the threshold\n",
        "  # above which pixels are considered as floodwater pixels.\n",
        "  vfm_water = image.eq(15).Or(image.eq(99)).Or(image.eq(100)).Or(image.gte(150))\n",
        "\n",
        "  ############## Get Nonwater Pixels ########################\n",
        "\n",
        "  # Part 1 will get pixels that have floodwater but have less than 50% of the pixel covered in floodwater\n",
        "  # Raster Values of 16 indicate clear-sky bare land\n",
        "  # Raster Values of 17 indicate clear-sky vegetation\n",
        "  # Raster Values of 20 indicate snow cover\n",
        "  # Raster Values of 27 indicate river/lake covered in ice\n",
        "  # Raster values of 38 indicate supra-snow ice water, mixed ice and water, or ice in melting status\n",
        "  pt1 = image.gt(100).And(image.lt(150))\n",
        "  pt2 = image.eq(16).Or(image.eq(17)).Or(image.eq(20)).Or(image.eq(27)).Or(image.eq(38))\n",
        "  vfm_nonwater = pt1.Or(pt2)\n",
        "\n",
        "  ############## Get Pixels where we do not have clear observations #############\n",
        "\n",
        "  # Values of 1 indicate bad data pixels\n",
        "  # Values of 30 indicate pixels where there is cloud cover\n",
        "  # Values of 50 indicate pixels that have shadows from clouds or terrain.\n",
        "  vfm_mask = image.eq(1).Or(image.eq(30)).Or(image.eq(50))\n",
        "\n",
        "  # This section of the\n",
        "  #ones = ee.Image(1)   # Dummy Image where every pixel has a value of 1\n",
        "  #zeros = ee.Image(0)  # Dummy Image where every pixel has a value of 0\n",
        "  #twos = ee.Image(2)   # Dummy Image where every pixel has a value of 2\n",
        "\n",
        "  # This section of the code will replace the VFM raster values with our classification schema (see Table 1).\n",
        "  vfm_mod = image.where(vfm_nonwater, ee.Image(0))   # Replace Nonwater Pixels as found by this code with a value of 0   # zeros\n",
        "  vfm_v2 = vfm_mod.where(vfm_water, ee.Image(1))     # Replace Water Pixels as found by this code with a value of 1    # ones\n",
        "  vfm_v3 = vfm_v2.where(vfm_mask, ee.Image(2))       # Replace Mask Pixels as found by this code with a value of 2    # twos\n",
        "\n",
        "  return ee.Image(vfm_v3)\n",
        "\n",
        "#################################################\n",
        "#   Part 3: Apply our function from Part 2      #\n",
        "#################################################\n",
        "# Apply the dswx_sch function to our clipped dswx mosaic to the schema\n",
        "# shown in table 1.\n",
        "# Run the function on the mosaic\n",
        "vfm_final = ee.Image(vng_sch(vfm_mos)).clip(aoi)"
      ],
      "metadata": {
        "id": "YpIZ7fbJ1x2J"
      },
      "execution_count": null,
      "outputs": []
    },
    {
      "cell_type": "markdown",
      "source": [
        "#Part 2.2 GFM Harmonization"
      ],
      "metadata": {
        "id": "_JJF2zM43CUs"
      }
    },
    {
      "cell_type": "markdown",
      "source": [
        "We do not need to transform the GFM map into our common schema as it already has that schema. Thus, all we will do is combine all of the GFM scenes into a mosaic and clip that mosaic to the area of interest."
      ],
      "metadata": {
        "id": "Cj7Nsw3CFVCf"
      }
    },
    {
      "cell_type": "code",
      "source": [
        "# We want to assign the pixels that were masked in the GFM image to have a value of 2.\n",
        "def gfm_sch(image):\n",
        "  twos = ee.Image(2)\n",
        "  #wawa = image.eq(1)\n",
        "  #nowawa = image.eq(0)\n",
        "  masked = image.gte(2)\n",
        "\n",
        "  #ones = ee.Image(1)\n",
        "  #zeros = ee.Image(0)\n",
        "\n",
        "  #gfm_new = img_2.where(wawa, ones)\n",
        "  #gfm_fin = gfm_new.where(nowawa, zeros)\n",
        "  gfm_fin = image.where(masked, twos)\n",
        "  return gfm_fin\n",
        "\n",
        "# Mosaic the individual GFM images and clip the mosaic to the area of interest\n",
        "gfm_final = gfm_sch(gfm_mos).clip(aoi)"
      ],
      "metadata": {
        "id": "CYE0qXBj23JM"
      },
      "execution_count": null,
      "outputs": []
    },
    {
      "cell_type": "markdown",
      "source": [
        "#Part 2.3 MCDWD Harmonization\n"
      ],
      "metadata": {
        "id": "7gXEpJMX-F4L"
      }
    },
    {
      "cell_type": "code",
      "execution_count": null,
      "metadata": {
        "id": "BpA5N-8x-fFW"
      },
      "outputs": [],
      "source": [
        "#####################################################\n",
        "#  Part 1: Mosaic MCDWD Images, Clip them to aoi    #\n",
        "#####################################################\n",
        "#mcdwd_mos = ee.ImageCollection([mcdwd1, mcdwd2, mcdwd3]).mosaic().clip(aoi)\n",
        "\n",
        "#############################################################################\n",
        "#   Part 2: Create a function to reassign pixel values to our new schema    #\n",
        "#############################################################################\n",
        "def mcdwd_sch(image):\n",
        "\n",
        "  #image = image.unmask()\n",
        "\n",
        "  ################ Get Water Pixels ####################\n",
        "\n",
        "  # Pixel Values of 1 indicate regular surface water according to the MCDWD algorithm\n",
        "  # Pixel Values of 2 indicate a recurring flood according to the MCDWD algorithm\n",
        "  # Pixel values of 3 indicate floodwater according to the MCDWD algorithm\n",
        "  mcdwd_water = image.eq(1).Or(image.eq(2)).Or(image.eq(3))\n",
        "\n",
        "  ############## Get Nonwater Values ########################\n",
        "  # Pixel values of 0 indicate no water is present according to the MCDWD algorithm\n",
        "  mcdwd_nonwater = image.eq(0)\n",
        "\n",
        "  ############## Get Pixels where we do not have clear observations #############\n",
        "  # Pixel values of 255 indicate insufficient data\n",
        "  #mcdwd_mask = image.mask()               # Get the mask of the MCDWD map\n",
        "  #mcdwd_maskdata = mcdwd_mask.eq(0)       # Find values where the MCDWD mask is equal to 0\n",
        "  #mcdwd_insufficient = image.eq(255)            # Get the MCDWD values with insufficient data\n",
        "  #mcdwd_unclear = mcdwd_maskdata.Or(mcdwd_insufficient)\n",
        "\n",
        "  # Replace MCDWD pixel values with our classification schema (see Table 1)\n",
        "  #mcdwd_mod = image.where(mcdwd_nonwater, ee.Image(0))\n",
        "  #mcdwd_v2 = mcdwd_mod.where(mcdwd_water, ee.Image(1))\n",
        "  #mcdwd_v3 = mcdwd_v2.where(mcdwd_unclear, ee.Image(2))\n",
        "  #mcdwd_v3 = image.where(mcdwd_maskdata, ee.Image(2))\n",
        "\n",
        "  mcdwd_mask = image.mask().clip(aoi)\n",
        "  mcdwd_maskdata = mcdwd_mask.eq(0)\n",
        "  mcdwd_insufficient = image.unmask().eq(255)\n",
        "  mcdwd_unclear = mcdwd_maskdata.Or(mcdwd_insufficient)\n",
        "\n",
        "  #mcdwd_v3 = image.unmask().where(mcdwd_maskdata, ee.Image(2))\n",
        "  mcdwd_v0 = image.unmask()\n",
        "  mcdwd_v1 = mcdwd_v0.where(mcdwd_nonwater, ee.Image(0))\n",
        "  mcdwd_v2 = mcdwd_v1.where(mcdwd_water, ee.Image(1))\n",
        "  mcdwd_v3 = mcdwd_v2.where(mcdwd_unclear, ee.Image(2))\n",
        "  mcdwd_v4 = mcdwd_v3.clip(aoi)\n",
        "\n",
        "  #return mcdwd_v3#.clip(aoi)\n",
        "  return mcdwd_v4\n",
        "\n",
        "#################################################\n",
        "#   Part 3: Apply our function from Part 2      #\n",
        "#################################################\n",
        "# Apply the mcdwd_sch function to our clipped dswx mosaic to the schema\n",
        "# shown in table 1.\n",
        "mcdwd_final = mcdwd_sch(mcdwd_mos).clip(aoi)"
      ]
    },
    {
      "cell_type": "markdown",
      "source": [
        "# Part 2.4 DSWx-HLS Harmonization"
      ],
      "metadata": {
        "id": "k1G6QZnR-RFM"
      }
    },
    {
      "cell_type": "code",
      "source": [
        "\n",
        "#####################################################\n",
        "#   Part 1: Mosaic DSWx Images, Clip them to aoi    #\n",
        "#####################################################\n",
        "#dswx_mos = ee.ImageCollection([dswx1, dswx2]).mosaic().clip(aoi)\n",
        "\n",
        "##############################################################################\n",
        "#   Part 2: Create a function to Reassign pixel values to our new schema     #\n",
        "##############################################################################\n",
        "def dswx_hls_sch(image):\n",
        "\n",
        "  ################ Get Water Pixels ####################\n",
        "  # Find Areas in DSWx that are water\n",
        "  # Pixel Values of 1 are water.\n",
        "  # Pixel Values of 254 are ocean masked\n",
        "  dswx_water = image.eq(1).Or(image.eq(254))\n",
        "\n",
        "  ############### Get Nonwater Pixels ########################\n",
        "\n",
        "  # Pixel values of 0 are nonwater according to dswx\n",
        "  # Pixel values of 252 are snow or ice according to dswx\n",
        "  # Pixel values of 2 are partial surface water according to dswx wte\n",
        "  dswx_nonwater = image.eq(0).Or(image.eq(252)).Or(image.eq(2))\n",
        "\n",
        "  ############## Get Pixels where we do not have clear observations #############\n",
        "  # Pixel Values of 255 are Fill Values according to dswx\n",
        "  # Pixel Values of 253 are associated with clouds or cloud shadows\n",
        "  dswx_mask = image.eq(255).Or(image.eq(253))\n",
        "\n",
        "  # Assign pixel values of 0 to areas classified as nonwater by dswx,\n",
        "  # pixel values of 1 to areas classified as water by dswx, and pixel\n",
        "  # values of 2 to areas classified as neither water nor nonwater by dswx.\n",
        "  dswx_mod = image.where(dswx_nonwater, ee.Image(0))\n",
        "  dswx_v2 = dswx_mod.where(dswx_water, ee.Image(1))\n",
        "  dswx_v3 = dswx_v2.where(dswx_mask, ee.Image(2))\n",
        "\n",
        "  # The output of this function will be the reclassified image.\n",
        "  return dswx_v3\n",
        "\n",
        "#################################################\n",
        "#   Part 3: Apply our function from Part 2      #\n",
        "#################################################\n",
        "# Apply the dswx_sch function to our clipped dswx mosaic to the schema\n",
        "# shown in table 1.\n",
        "#dswx_hls_final = dswx_hls_sch(dswx_hls_mos).clip(aoi)\n",
        "dswx_hls_final = dswx_hls_sch(dswx_hls_mos).clip(aoi)"
      ],
      "metadata": {
        "id": "JZfzzNsZq4qh"
      },
      "execution_count": null,
      "outputs": []
    },
    {
      "cell_type": "markdown",
      "source": [
        "# Part 2.5: DSWx-S1 Harmonization"
      ],
      "metadata": {
        "id": "KK7HfUgLkkE4"
      }
    },
    {
      "cell_type": "code",
      "source": [
        "# Part 1: Create a function to reassign pixel values to our new schema\n",
        "def dswx_s1_sch(image):\n",
        "  ############## Get water Pixels ####################\n",
        "  # Find areas of DSWx-S1 that are water\n",
        "  # Pixel values of 1 are water\n",
        "  dswx_s1_water = image.eq(1)\n",
        "\n",
        "  ################ Get Nonwater Pixels ###############\n",
        "  # Find areas of DSWx-S1 that are nonwater\n",
        "  # Pixel values of 0 are not water.\n",
        "  # Pixel values of 250 are areas where the height above nearest drainage is higher than the\n",
        "  # threshold set by the DSWx-s1 developers, so they are assumed to be nonwater as it would be illogical\n",
        "  # for water to be found at such a height above the nearest drainage\n",
        "  dswx_s1_nonwater = image.eq(0).Or(image.eq(250)).Or()\n",
        "\n",
        "  ################### Get Pixels where we do not have clear observations #################\n",
        "  # Pixel values of 251 are layover or shadow masked\n",
        "  # Pixel values of 255 are no data, or fill, values\n",
        "  dswx_s1_mask = image.eq(251).Or(image.eq(255))\n",
        "\n",
        "  # Assign pixel values of 0 to areas classified as nonwater by DSWx-S1\n",
        "  # Assign pixel values of 1 to areas classified as water by DSWx-S1\n",
        "  # Assign pixel values of 2 to areas classified as neither water nor nonwater by DSWx-S1\n",
        "  dswx_s1_mod = image.where(dswx_s1_nonwater, ee.Image(0))\n",
        "  dswx_s1_v2 = dswx_s1_mod.where(dswx_s1_water, ee.Image(1))\n",
        "  dswx_s1_v3 = dswx_s1_v2.where(dswx_s1_mask, ee.Image(2))\n",
        "\n",
        "  # The output of this function will be the reclassified image.\n",
        "  return dswx_s1_v3\n",
        "\n",
        "# Part 2: Apply the function from part 3 to our clipped DSWx-S1 mosaic\n",
        "#dswx_s1_final = dswx_s1_sch(dswx_s1_mos).clip(aoi)\n",
        "dswxs1_final = dswx_s1_sch(dswx_s1_mos).clip(aoi)"
      ],
      "metadata": {
        "id": "RNPkCZRVkjhX"
      },
      "execution_count": null,
      "outputs": []
    },
    {
      "cell_type": "markdown",
      "source": [
        "# Part 2.6 HYDRAFLOODS HARMONIZATION"
      ],
      "metadata": {
        "id": "hDWOk6rrWWcm"
      }
    },
    {
      "cell_type": "code",
      "source": [
        "def hf_sch(image):\n",
        "\n",
        "  # Get image mask\n",
        "  unmsked_img = image.unmask()\n",
        "  hf_mask = image.mask()\n",
        "  hf_masked = hf_mask.eq(0)\n",
        "\n",
        "  hf_mod = unmsked_img.where(hf_masked, ee.Image(2))\n",
        "  hf_v3 = hf_mod.clip(aoi)\n",
        "\n",
        "  return hf_v3\n",
        "\n",
        "hf_final = hf_sch(hydrafloods_mos)"
      ],
      "metadata": {
        "id": "nCKYcKAPXMOs"
      },
      "execution_count": null,
      "outputs": []
    },
    {
      "cell_type": "markdown",
      "source": [
        "# Part 3: Map Visualization"
      ],
      "metadata": {
        "id": "dZJy2BRr4Lgd"
      }
    },
    {
      "cell_type": "markdown",
      "source": [
        "Let's Visualize the Flood Maps to get a general idea of how they perform when compared with each other."
      ],
      "metadata": {
        "id": "w-TjFMd_5yF-"
      }
    },
    {
      "cell_type": "code",
      "source": [
        "vp = {\n",
        "    'min': 0,\n",
        "    'max': 2,\n",
        "    'palette': ['000000', 'add8e6', 'FFFFFF']\n",
        "}\n",
        "\n",
        "Map = geemap.Map(center = (lat, lon), zoom = 5)\n",
        "Map.addLayer(aoi, {}, 'Area of Interest')\n",
        "Map.addLayer(vfm_final, vp, 'VIIRS Flood Map')\n",
        "Map.addLayer(mcdwd_final, vp, 'MCDWD Flood Map')\n",
        "Map.addLayer(gfm_final, vp, 'GFM Map')\n",
        "Map.addLayer(dswx_hls_final, vp, 'DSWx-HLS Flood Map')\n",
        "Map.addLayer(dswxs1_final, vp, 'DSWX-S1 Flood Map')\n",
        "Map.addLayer(hf_final, vp, 'HYDRAFloods ')\n",
        "Map.addLayer(hydrosar_mos, vp, 'HYDROSAR')\n",
        "\n",
        "Map.addLayerControl()\n",
        "Map"
      ],
      "metadata": {
        "id": "YNyTuCdzD_IY"
      },
      "execution_count": null,
      "outputs": []
    },
    {
      "cell_type": "markdown",
      "source": [
        "# Part 4: Export the Mosaicked Flood Maps with new Raster Values"
      ],
      "metadata": {
        "id": "7bl6XWem_ylZ"
      }
    },
    {
      "cell_type": "markdown",
      "source": [
        "Now we will Export our new images to Google Earth Engine images so we can use them later."
      ],
      "metadata": {
        "id": "9KF33EEq4ClV"
      }
    },
    {
      "cell_type": "code",
      "source": [
        "# Define a function that exports an Image to a Google Earth Engine Asset.\n",
        "def exporter(img, asset_id, scale_):\n",
        "\n",
        "  desc = 'Flood_Map_Export_'\n",
        "  region_ = aoi.geometry()\n",
        "  geemap.ee_export_image_to_asset(image = img,\n",
        "                                  assetId = asset_id,\n",
        "                                  description = desc,\n",
        "                                  region = region_,\n",
        "                                  crs = my_projection,\n",
        "                                  scale = scale_,\n",
        "                                  maxPixels = 1e13)\n",
        "  return 0"
      ],
      "metadata": {
        "id": "rXV2lCkL_KDD"
      },
      "execution_count": null,
      "outputs": []
    },
    {
      "cell_type": "code",
      "source": [
        "# Get the scales of the product\n",
        "vfm_scale = vfm_final.projection().nominalScale().getInfo()\n",
        "mcdwd_scale = mcdwd_final.projection().nominalScale().getInfo()\n",
        "dswxhls_scale = dswx_hls_final.projection().nominalScale().getInfo()\n",
        "dswxs1_scale = dswxs1_final.projection().nominalScale().getInfo()\n",
        "hydrafloods_scale = hf_final.projection().nominalScale().getInfo()\n",
        "hydrosar_scale = hydrafloods_mos.projection().nominalScale().getInfo()\n",
        "gfm_scale = gfm_final.projection().nominalScale().getInfo()"
      ],
      "metadata": {
        "id": "aRwVgJ3cbM7T"
      },
      "execution_count": null,
      "outputs": []
    },
    {
      "cell_type": "code",
      "source": [
        "# Export VFM\n",
        "vfm_aid_final_30 = my_gee_folder + 'vfm_harmonized'\n",
        "exporter(vfm_final, vfm_aid_final_30, vfm_scale)\n",
        "\n",
        "# Export GFM\n",
        "gfm_aid_final = my_gee_folder + 'gfm_harmonized'\n",
        "exporter(gfm_final, gfm_aid_final, gfm_scale)\n",
        "\n",
        "# Export MCDWD\n",
        "mcdwd_aid_final_30 = my_gee_folder + 'mcdwd_harmonized'\n",
        "exporter(mcdwd_final, mcdwd_aid_final_30, mcdwd_scale)\n",
        "\n",
        "# Export DSWx-HLS\n",
        "dswxhls_aid_final_30 = my_gee_folder + 'dswxhls_harmonmized'\n",
        "exporter(dswx_hls_final, dswxhls_aid_final_30, dswxhls_scale)\n",
        "\n",
        "# Export DSWx-S1\n",
        "dswxs1_aid_final_30 = my_gee_folder + 'dswxs1_harmonized'\n",
        "exporter(dswxs1_final, dswxs1_aid_final_30, dswxs1_scale)\n",
        "\n",
        "# Export Hydrosar\n",
        "hydrosar_aid_final = my_gee_folder + 'hydrosar_harmonized'\n",
        "exporter(hydrosar_mos, hydrosar_aid_final, hydrosar_scale)\n",
        "\n",
        "# Export HYDRAFloods\n",
        "hydrafloods_aid_final = my_gee_folder + 'hydrafloods_harmonized'\n",
        "exporter(hf_final, hydrafloods_aid_final, hydrafloods_scale)"
      ],
      "metadata": {
        "id": "k1_P___a3Ys0"
      },
      "execution_count": null,
      "outputs": []
    },
    {
      "cell_type": "markdown",
      "source": [
        "The above cell will return a 0, but your exports have begun. Click [here](https://code.earthengine.google.com/) to open the GEE Code Editor Interface. Navigate to the Tasks tab by clicking on the right tab. These will take a couple minutes to an hour to run depending on the size of your study area."
      ],
      "metadata": {
        "id": "iCLuTZulrLPm"
      }
    }
  ],
  "metadata": {
    "colab": {
      "provenance": [],
      "toc_visible": true,
      "include_colab_link": true
    },
    "kernelspec": {
      "display_name": "Python 3",
      "name": "python3"
    },
    "language_info": {
      "name": "python"
    }
  },
  "nbformat": 4,
  "nbformat_minor": 0
}